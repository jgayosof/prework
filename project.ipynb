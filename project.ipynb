{
 "cells": [
  {
   "cell_type": "markdown",
   "id": "c4e52ee5",
   "metadata": {},
   "source": [
    "## The dataset\n",
    "\n",
    "This is a real dataset and it was downloaded using web scraping techniques. The data contains registers from fotocasa which is one of the most popular websites of real estate in Spain. Please, do not do this (web scraping) unless it is for academic purposes.\n",
    "\n",
    "The dataset was downloaded a few years ago by Henry Navarro and In no case were economic returns obtained from it.\n",
    "\n",
    "It contains thousands of data from real homes published on the web www.fotocasa.com. Your goal is to extract as much information as possible with the knowledge you have so far about data science, for example what is the most expensive home in the entire dataset?\n",
    "\n",
    "Let's start with precisely that question... Good luck!\n"
   ]
  },
  {
   "cell_type": "markdown",
   "id": "dd97255d",
   "metadata": {},
   "source": [
    "#### Read the dataset assets/real_estate.csv and try to visualize the table (★☆☆)"
   ]
  },
  {
   "cell_type": "code",
   "execution_count": 1,
   "id": "4b93d9c8",
   "metadata": {},
   "outputs": [],
   "source": [
    "import numpy as np\n",
    "import pandas as pd\n",
    "import matplotlib.pyplot as plt\n",
    "real_estate = pd.read_csv('assets/real_estate.csv', sep=';')"
   ]
  },
  {
   "cell_type": "markdown",
   "id": "40631cd6",
   "metadata": {},
   "source": [
    "#### What is the most expensive home in the dataset? (★☆☆)"
   ]
  },
  {
   "cell_type": "code",
   "execution_count": 2,
   "id": "8a758bcf",
   "metadata": {},
   "outputs": [
    {
     "name": "stdout",
     "output_type": "stream",
     "text": [
      "Most expensive home is: engel volkers torrelodones which costs: 8500000\n"
     ]
    }
   ],
   "source": [
    "row_most_exp = np.argmax(real_estate['price'])\n",
    "print('Most expensive home is:', real_estate.loc[row_most_exp, 'realEstate_name'], 'which costs:', real_estate.loc[row_most_exp, 'price'])"
   ]
  },
  {
   "cell_type": "markdown",
   "id": "0a708990",
   "metadata": {},
   "source": [
    "#### What is cheapest home in the dataset? (★☆☆)"
   ]
  },
  {
   "cell_type": "code",
   "execution_count": 3,
   "id": "477e01f4",
   "metadata": {},
   "outputs": [
    {
     "name": "stdout",
     "output_type": "stream",
     "text": [
      "Cheapest home is: luis garcia which costs: 540000\n"
     ]
    }
   ],
   "source": [
    "# Filtro homes con price > 0\n",
    "real_estate = real_estate[real_estate['price'] > 0]\n",
    "row_cheapest = np.argmin(real_estate['price'])\n",
    "print('Cheapest home is:', real_estate.loc[row_cheapest, 'realEstate_name'], 'which costs:', real_estate.loc[row_cheapest, 'price'])"
   ]
  },
  {
   "cell_type": "markdown",
   "id": "0b16cd77",
   "metadata": {},
   "source": [
    "#### What is the biggest and the smallest home in the dataset? (★☆☆)"
   ]
  },
  {
   "cell_type": "code",
   "execution_count": 4,
   "id": "4d9b5975",
   "metadata": {},
   "outputs": [
    {
     "name": "stdout",
     "output_type": "stream",
     "text": [
      "Biggest home is: clouds gestion which has a surface of: 70.0\n",
      "Smallest home is: pradesa which has a surface of: 50.0\n"
     ]
    }
   ],
   "source": [
    "row_biggest = np.argmax(real_estate['surface'])\n",
    "print('Biggest home is:', real_estate.loc[row_biggest, 'realEstate_name'], 'which has a surface of:', real_estate.loc[row_biggest, 'surface'])\n",
    "\n",
    "row_smallest = np.argmin(real_estate['surface'])\n",
    "print('Smallest home is:', real_estate.loc[row_smallest, 'realEstate_name'], 'which has a surface of:', real_estate.loc[row_smallest, 'surface'])"
   ]
  },
  {
   "cell_type": "markdown",
   "id": "782d4c77",
   "metadata": {},
   "source": [
    "#### How many populations (level5) the dataset contains? (★☆☆)"
   ]
  },
  {
   "cell_type": "code",
   "execution_count": 5,
   "id": "5dbe1a08",
   "metadata": {},
   "outputs": [
    {
     "name": "stdout",
     "output_type": "stream",
     "text": [
      "There are 168 different populations (level5)\n"
     ]
    }
   ],
   "source": [
    "diff_level5 = len(real_estate.groupby('level5').sum())\n",
    "print('There are', diff_level5, 'different populations (level5)')"
   ]
  },
  {
   "cell_type": "markdown",
   "id": "48d48f01",
   "metadata": {},
   "source": [
    "#### Does the dataset contain NAs? (★☆☆)\n"
   ]
  },
  {
   "cell_type": "code",
   "execution_count": 6,
   "id": "3ed233e7",
   "metadata": {},
   "outputs": [
    {
     "name": "stdout",
     "output_type": "stream",
     "text": [
      "Does the dataset contain NAs?: True\n"
     ]
    }
   ],
   "source": [
    "print('Does the dataset contain NAs?:', real_estate.isnull().values.any())"
   ]
  },
  {
   "cell_type": "markdown",
   "id": "4fa39382",
   "metadata": {},
   "source": [
    "#### Delete the NAs of the dataset, if applicable (★★☆)"
   ]
  },
  {
   "cell_type": "code",
   "execution_count": 7,
   "id": "c97757ec",
   "metadata": {},
   "outputs": [
    {
     "name": "stdout",
     "output_type": "stream",
     "text": [
      "Empty DataFrame\n",
      "Columns: [Unnamed: 0, id_realEstates, isNew, realEstate_name, phone_realEstate, url_inmueble, rooms, bathrooms, surface, price, date, description, address, country, level1, level2, level3, level4, level5, level6, level7, level8, upperLevel, countryId, level1Id, level2Id, level3Id, level4Id, level5Id, level6Id, level7Id, level8Id, accuracy, latitude, longitude, zipCode, customZone]\n",
      "Index: []\n",
      "\n",
      "[0 rows x 37 columns]\n"
     ]
    }
   ],
   "source": [
    "data_frame_no_nulls = real_estate.dropna()\n",
    "print(data_frame_no_nulls)"
   ]
  },
  {
   "cell_type": "markdown",
   "id": "0e5f76de",
   "metadata": {},
   "source": [
    "#### What is the mean of prices in the population (level5) of \"Arroyomolinos (Madrid)\"? (★★☆)"
   ]
  },
  {
   "cell_type": "code",
   "execution_count": 8,
   "id": "327f7adb",
   "metadata": {},
   "outputs": [
    {
     "name": "stdout",
     "output_type": "stream",
     "text": [
      "Mean price in the population (level5) of Arroyomolinos (Madrid): 298905\n"
     ]
    }
   ],
   "source": [
    "level5_arroyomolinos_prices = real_estate.loc[real_estate['level5']=='Arroyomolinos (Madrid)']['price']\n",
    "mean_price_arroyomolinos = level5_arroyomolinos_prices.mean()\n",
    "print('Mean price in the population (level5) of Arroyomolinos (Madrid):', int(mean_price_arroyomolinos))"
   ]
  },
  {
   "cell_type": "markdown",
   "id": "89b548e3",
   "metadata": {},
   "source": [
    "#### Plot the histogram of prices for the population (level5) of \"Arroyomolinos (Madrid)\" and explain what you observe (★★☆)"
   ]
  },
  {
   "cell_type": "code",
   "execution_count": 9,
   "id": "2ba51bf7",
   "metadata": {},
   "outputs": [
    {
     "data": {
      "image/png": "[encoded data removed]",
      "text/plain": [
       "<Figure size 432x288 with 1 Axes>"
      ]
     },
     "metadata": {
      "needs_background": "light"
     },
     "output_type": "display_data"
    }
   ],
   "source": [
    "#level5_arroyomolinos = real_estate.loc[real_estate['level5']=='Arroyomolinos (Madrid)']\n",
    "level5_arroyomolinos_prices = real_estate.loc[real_estate['level5']=='Arroyomolinos (Madrid)']['price']\n",
    "mean_price_arroyomolinos = level5_arroyomolinos_prices.mean()\n",
    "\n",
    "#plt.hist(level5_arroyomolinos_prices)\n",
    "plt.hist(level5_arroyomolinos_prices, 10, histtype = 'bar')\n",
    "plt.ylabel(\"Price\")\n",
    "plt.xlabel(\"Bin Number\")\n",
    "plt.title(\"Prices distribution in Arroyomolino\")\n",
    "plt.show()\n"
   ]
  },
  {
   "cell_type": "markdown",
   "id": "c86dc493",
   "metadata": {},
   "source": [
    "#### Now let's work with the \"south belt\" of madrid. Make a subsetting that contains the following populations (level5): \"Fuenlabrada\",\"Leganés\",\"Getafe\",\"Alcorcón\" (★★☆) "
   ]
  },
  {
   "cell_type": "code",
   "execution_count": 10,
   "id": "5280d0cb",
   "metadata": {},
   "outputs": [],
   "source": [
    "madrid_south_belt_cities = sorted(['Fuenlabrada', 'Leganés', 'Getafe', 'Alcorcón'])\n",
    "madrid_south_belt = real_estate[real_estate['level5'].isin(madrid_south_belt_cities)]"
   ]
  },
  {
   "cell_type": "markdown",
   "id": "090a6a3e",
   "metadata": {},
   "source": [
    "#### Make a bar plot of the median of prices (★★★) "
   ]
  },
  {
   "cell_type": "code",
   "execution_count": 12,
   "id": "68aec11c",
   "metadata": {},
   "outputs": [
    {
     "name": "stdout",
     "output_type": "stream",
     "text": [
      "MEDIAN PRICE FOR EACH POPULATION IN MADRID'S SOUTH BELT:\n",
      " level5\n",
      "Alcorcón       179500.0\n",
      "Fuenlabrada    155000.0\n",
      "Getafe         288400.0\n",
      "Leganés        169950.0\n",
      "Name: price, dtype: float64\n"
     ]
    },
    {
     "data": {
      "image/png": "[encoded data removed]",
      "text/plain": [
       "<Figure size 432x288 with 1 Axes>"
      ]
     },
     "metadata": {
      "needs_background": "light"
     },
     "output_type": "display_data"
    }
   ],
   "source": [
    "median_price_mad_south_belt = madrid_south_belt.groupby('level5')['price'].median()\n",
    "print(\"Median price for each population in Madrid's South Belt:\\n\".upper(), median_price_mad_south_belt)\n",
    "\n",
    "median_price_mad_south_belt.plot(kind='bar')\n",
    "plt.show()"
   ]
  },
  {
   "cell_type": "code",
   "execution_count": null,
   "id": "4911b68a",
   "metadata": {},
   "outputs": [],
   "source": []
  },
  {
   "cell_type": "markdown",
   "id": "18f67373",
   "metadata": {},
   "source": [
    "#### Calculate the sample mean and variance of the variables: price, rooms, surface area and bathrooms (★★★) "
   ]
  },
  {
   "cell_type": "code",
   "execution_count": 13,
   "id": "8d068061",
   "metadata": {},
   "outputs": [
    {
     "name": "stdout",
     "output_type": "stream",
     "text": [
      "MEAN PRICE, ROOMS, SURFACE AND BATHROOMS FOR EACH POPULATION IN MADRID'S SOUTH BELT:\n",
      "                      price     rooms     surface  bathrooms\n",
      "level5                                                     \n",
      "Alcorcón     230071.052632  2.914894  105.913295   1.623656\n",
      "Fuenlabrada  177198.021459  3.025974  103.624365   1.445415\n",
      "Getafe       276481.097122  3.176259  126.152838   1.855596\n",
      "Leganés      208682.010309  2.906736  105.852273   1.518135\n",
      "VARIANCE OF PRICE, ROOMS, SURFACE AND BATHROOMS FOR EACH POPULATION IN MADRID'S SOUTH BELT:\n",
      "                     price     rooms      surface  bathrooms\n",
      "level5                                                     \n",
      "Alcorcón     1.594783e+10  0.933895  4244.323834   0.592735\n",
      "Fuenlabrada  4.701021e+09  0.355844  2264.643893   0.353367\n",
      "Getafe       1.871713e+10  0.773875  5988.998468   0.681970\n",
      "Leganés      1.191394e+10  0.824590  3987.475195   0.553055\n"
     ]
    }
   ],
   "source": [
    "columns = ['price', 'rooms', 'surface', 'bathrooms']\n",
    "mean_data_mad_south_belt = madrid_south_belt.groupby('level5').mean().filter(columns)\n",
    "print(\"Mean price, rooms, surface and bathrooms for each population in Madrid's South Belt:\\n\".upper(), mean_data_mad_south_belt)\n",
    "\n",
    "variance_data_mad_south_belt = madrid_south_belt.groupby('level5').var().filter(columns)\n",
    "print(\"Variance of price, rooms, surface and bathrooms for each population in Madrid's South Belt:\\n\".upper(), variance_data_mad_south_belt)"
   ]
  },
  {
   "cell_type": "markdown",
   "id": "95cfde61",
   "metadata": {},
   "source": [
    "#### What is the most expensive home of each population? (★★☆) "
   ]
  },
  {
   "cell_type": "code",
   "execution_count": 14,
   "id": "1c29f78c",
   "metadata": {},
   "outputs": [
    {
     "name": "stdout",
     "output_type": "stream",
     "text": [
      "MOST EXPENSIVE HOME FOR EACH POPULATION IN MADRID'S SOUTH BELT:\n",
      "                                         realEstate_name    price\n",
      "level5                                                          \n",
      "Alcorcón           vivienda madrid usera plaza eliptica   950000\n",
      "Fuenlabrada                                       zosma   490000\n",
      "Getafe       world house group soluciones inmobiliarias  1050000\n",
      "Leganés                                     zome madrid   650000\n"
     ]
    },
    {
     "name": "stderr",
     "output_type": "stream",
     "text": [
      "/tmp/ipykernel_1212/2413915196.py:2: FutureWarning: Indexing with multiple keys (implicitly converted to a tuple of keys) will be deprecated, use a list instead.\n",
      "  most_exp_mad_south_belt = madrid_south_belt.groupby('level5')['realEstate_name', 'price'].max()\n"
     ]
    }
   ],
   "source": [
    "columns = ['realEstate_name', 'price']\n",
    "most_exp_mad_south_belt = madrid_south_belt.groupby('level5')['realEstate_name', 'price'].max()\n",
    "print(\"Most expensive home for each population in Madrid's South Belt:\\n\".upper(), most_exp_mad_south_belt)"
   ]
  },
  {
   "cell_type": "markdown",
   "id": "ea67579b",
   "metadata": {},
   "source": [
    "#### Normalize the variable of prices for each population and plot the 4 histograms in the same plot (★★★) "
   ]
  },
  {
   "cell_type": "code",
   "execution_count": 15,
   "id": "385ad99c",
   "metadata": {},
   "outputs": [
    {
     "name": "stderr",
     "output_type": "stream",
     "text": [
      "/tmp/ipykernel_1212/2620296030.py:2: SettingWithCopyWarning: \n",
      "A value is trying to be set on a copy of a slice from a DataFrame.\n",
      "Try using .loc[row_indexer,col_indexer] = value instead\n",
      "\n",
      "See the caveats in the documentation: https://pandas.pydata.org/pandas-docs/stable/user_guide/indexing.html#returning-a-view-versus-a-copy\n",
      "  madrid_south_belt_price_normal['price'] = ( (madrid_south_belt['price'] - madrid_south_belt['price'].min()) / (madrid_south_belt['price'].max() - madrid_south_belt['price'].min()) )\n"
     ]
    },
    {
     "data": {
      "image/png": "[encoded data removed]",
      "text/plain": [
       "<Figure size 432x288 with 4 Axes>"
      ]
     },
     "metadata": {
      "needs_background": "light"
     },
     "output_type": "display_data"
    }
   ],
   "source": [
    "madrid_south_belt_price_normal = madrid_south_belt[['level5', 'price']]\n",
    "madrid_south_belt_price_normal['price'] = ( (madrid_south_belt['price'] - madrid_south_belt['price'].min()) / (madrid_south_belt['price'].max() - madrid_south_belt['price'].min()) )\n",
    "\n",
    "#Split DataFrame based on population:\n",
    "population_specific_data_frames = [\n",
    "    madrid_south_belt_price_normal[madrid_south_belt_price_normal['level5'] == population]\n",
    "    for population in madrid_south_belt_cities\n",
    "]\n",
    "\n",
    "for index, population_data_frame in enumerate(population_specific_data_frames) :\n",
    "    plt.subplot(2, 2, index + 1)\n",
    "    plt.xlabel('Normalized price')\n",
    "    plt.ylabel('Frequency')\n",
    "    plt.hist(population_data_frame, alpha=0.5,\n",
    "        label=population_data_frame['level5'].iloc[0])\n",
    "\n",
    "plt.show()"
   ]
  },
  {
   "cell_type": "markdown",
   "id": "2ec1bd5c",
   "metadata": {},
   "source": [
    "#### Make a plot of the coordinates (lat and long) of the south belt of Madrid by color of each population (★★★★) \n",
    "This is a extremely hard exercise and we highly recommend to do it at the end of everything"
   ]
  },
  {
   "cell_type": "code",
   "execution_count": 16,
   "id": "312aac99",
   "metadata": {},
   "outputs": [
    {
     "data": {
      "application/vnd.jupyter.widget-view+json": {
       "model_id": "c82cae5e86c0450c99eef3f4070bddde",
       "version_major": 2,
       "version_minor": 0
      },
      "text/plain": [
       "Map(center=[60, -2.2], controls=(ZoomControl(options=['position', 'zoom_in_text', 'zoom_in_title', 'zoom_out_t…"
      ]
     },
     "metadata": {},
     "output_type": "display_data"
    }
   ],
   "source": [
    "# Run in console the following command before run the rest of code:\n",
    "# jupyter nbextension enable --py --sys-prefix ipyleaflet\n",
    "\n",
    "from ipyleaflet import Map, basemaps\n",
    "\n",
    "# Map centred on (60 degrees latitude et -2.2 degrees longitude)\n",
    "# Latitude, longitude\n",
    "map = Map(center = (60, -2.2), zoom = 2, min_zoom = 1, max_zoom = 20, \n",
    "    basemap=basemaps.Stamen.Terrain)\n",
    "map"
   ]
  },
  {
   "cell_type": "code",
   "execution_count": null,
   "id": "f7931ec0",
   "metadata": {},
   "outputs": [],
   "source": [
    "## HERE: plot the coordinates of the estates\n",
    "\n",
    "## PUT HERE YOUR CODE:\n"
   ]
  },
  {
   "cell_type": "markdown",
   "id": "b22874b7",
   "metadata": {},
   "source": [
    "#### What can you say about the price per square meter between the towns of Getafe and Alcorcón?"
   ]
  },
  {
   "cell_type": "code",
   "execution_count": 17,
   "id": "e0ef506b",
   "metadata": {},
   "outputs": [
    {
     "name": "stdout",
     "output_type": "stream",
     "text": [
      "Getafe's mean price per sq meter is 2191\n",
      "Alcorcón's mean price per sq meter is 2172\n"
     ]
    }
   ],
   "source": [
    "# Price per m2 in Getafe:\n",
    "getafe_homes = madrid_south_belt[madrid_south_belt['level5'] == 'Getafe'][['price', 'surface']]\n",
    "getafe_prices_per_m2 = getafe_homes['price'].mean() / getafe_homes['surface'].mean()\n",
    "print(\"Getafe's mean price per sq meter is\", int(getafe_prices_per_m2))\n",
    "\n",
    "# Price per m2 in Alcorcón:\n",
    "alcorcon_homes = madrid_south_belt[madrid_south_belt['level5'] == 'Alcorcón'][['price', 'surface']]\n",
    "alcorcon_price_per_m2 = alcorcon_homes['price'].mean() / alcorcon_homes['surface'].mean()\n",
    "print(\"Alcorcón's mean price per sq meter is\", int(alcorcon_price_per_m2))"
   ]
  },
  {
   "cell_type": "markdown",
   "id": "a4376b3f",
   "metadata": {},
   "source": [
    "#### Reload the data, is the average of \"Valdemorillo\" and \"Galapagar\" prices the same?"
   ]
  },
  {
   "cell_type": "code",
   "execution_count": 18,
   "id": "37dbaf65",
   "metadata": {},
   "outputs": [
    {
     "name": "stdout",
     "output_type": "stream",
     "text": [
      "Valdemorillo's mean price is: 363860 and mean price per sq meter is 1039\n",
      "Galpagar's mean price is: 360063 and mean price per sq meter is 1178\n"
     ]
    }
   ],
   "source": [
    "# Valdemorillo\n",
    "valdemorillo_homes = real_estate[real_estate['level5'] == 'Valdemorillo'][['price', 'surface']]\n",
    "valdemorillo_mean_price = valdemorillo_homes['price'].mean()\n",
    "valdemorillo_price_per_m2 = valdemorillo_mean_price / valdemorillo_homes['surface'].mean()\n",
    "\n",
    "# Galapagar\n",
    "galapagar_homes = real_estate[real_estate['level5'] == 'Galapagar'][['price', 'surface']]\n",
    "galpagar_mean_price = galapagar_homes['price'].mean()\n",
    "galpagar_price_per_m2 = galpagar_mean_price / galapagar_homes['surface'].mean()\n",
    "\n",
    "print(\"Valdemorillo's mean price is:\", int(valdemorillo_mean_price) , \"and mean price per sq meter is\" , int(valdemorillo_price_per_m2))\n",
    "print(\"Galpagar's mean price is:\", int(galpagar_mean_price), \"and mean price per sq meter is\" , int(galpagar_price_per_m2))"
   ]
  },
  {
   "cell_type": "markdown",
   "id": "b6af45ec",
   "metadata": {},
   "source": [
    "#### What happens if we do the same analysis for price/m2 (★★☆) "
   ]
  },
  {
   "cell_type": "code",
   "execution_count": 19,
   "id": "8231d73e",
   "metadata": {},
   "outputs": [
    {
     "name": "stdout",
     "output_type": "stream",
     "text": [
      "Valdemorillo's mean price is: 363860 and mean price per sq meter is 1039\n",
      "Galpagar's mean price is: 360063 and mean price per sq meter is 1178\n"
     ]
    }
   ],
   "source": [
    "print(\"Valdemorillo's mean price is:\", int(valdemorillo_mean_price) , \"and mean price per sq meter is\" , int(valdemorillo_price_per_m2))\n",
    "print(\"Galpagar's mean price is:\", int(galpagar_mean_price), \"and mean price per sq meter is\" , int(galpagar_price_per_m2))"
   ]
  },
  {
   "cell_type": "markdown",
   "id": "2d40e202",
   "metadata": {},
   "source": [
    "#### Could you say there is a relation between surface and price? (★★☆) \n",
    "Hint: make a scatter plot."
   ]
  },
  {
   "cell_type": "code",
   "execution_count": 20,
   "id": "405462e1",
   "metadata": {},
   "outputs": [
    {
     "data": {
      "text/plain": [
       "<function matplotlib.pyplot.show(close=None, block=None)>"
      ]
     },
     "execution_count": 20,
     "metadata": {},
     "output_type": "execute_result"
    },
    {
     "data": {
      "image/png": "[encoded data removed]",
      "text/plain": [
       "<Figure size 432x288 with 1 Axes>"
      ]
     },
     "metadata": {
      "needs_background": "light"
     },
     "output_type": "display_data"
    }
   ],
   "source": [
    "# price-surface scatter plot\n",
    "plt.scatter(valdemorillo_homes['surface'], valdemorillo_homes['price'], label='Valdemorillo')\n",
    "plt.scatter(galapagar_homes['surface'], galapagar_homes['price'], label='Galapagar')\n",
    "plt.legend(loc='upper left')\n",
    "plt.ylabel('Surface')\n",
    "plt.xlabel('Price')\n",
    "plt.title(\"Valdemorillo and Galpagar: prices vs surface\")\n",
    "plt.show"
   ]
  },
  {
   "cell_type": "markdown",
   "id": "3275db77",
   "metadata": {},
   "source": [
    "#### Make the same plot for 4 different populations (level5) and rearrange them on the same graph? (★★☆) \n",
    "Hint: make a scatter plot of each population using subplots."
   ]
  },
  {
   "cell_type": "code",
   "execution_count": 21,
   "id": "e08292ff",
   "metadata": {},
   "outputs": [
    {
     "data": {
      "text/plain": [
       "<matplotlib.legend.Legend at 0x7fcd6ce7c520>"
      ]
     },
     "execution_count": 21,
     "metadata": {},
     "output_type": "execute_result"
    },
    {
     "data": {
      "image/png": "[encoded data removed]",
      "text/plain": [
       "<Figure size 1584x576 with 4 Axes>"
      ]
     },
     "metadata": {
      "needs_background": "light"
     },
     "output_type": "display_data"
    }
   ],
   "source": [
    "# 4 price-surface scatter plots\n",
    "fig, (ax1, ax2, ax3, ax4) = plt.subplots(1, 4, figsize=(22,8))\n",
    "fig.suptitle('Comparation of price vs surface')\n",
    "fig.supxlabel('Surface')\n",
    "fig.supylabel('Price')\n",
    "fig.set_figwidth\n",
    "\n",
    "ax1.scatter(getafe_homes['surface'], getafe_homes['price'], label='Getafe')\n",
    "ax1.legend(loc='upper left')\n",
    "\n",
    "ax2.scatter(alcorcon_homes['surface'], alcorcon_homes['price'], label='Alcorcón', c='red')\n",
    "ax2.legend(loc='upper left')\n",
    "\n",
    "ax3.scatter(valdemorillo_homes['surface'], valdemorillo_homes['price'], label='Valdemorillo', c='black')\n",
    "ax3.legend(loc='upper left')\n",
    "\n",
    "ax4.scatter(galapagar_homes['surface'], galapagar_homes['price'], label='Galpagar', c='green')\n",
    "ax4.legend(loc='upper left')"
   ]
  },
  {
   "cell_type": "markdown",
   "id": "522c6bd9",
   "metadata": {},
   "source": [
    "#### How many  real estate agencies the dataset contains? (★★☆) "
   ]
  },
  {
   "cell_type": "code",
   "execution_count": 22,
   "id": "014ec6c8",
   "metadata": {},
   "outputs": [
    {
     "name": "stdout",
     "output_type": "stream",
     "text": [
      "There are 14160 real estate agencies\n"
     ]
    }
   ],
   "source": [
    "#Real Estate agencies:\n",
    "diff_agencies = len(real_estate.groupby('id_realEstates').sum())\n",
    "print('There are', diff_agencies, 'real estate agencies')"
   ]
  },
  {
   "cell_type": "markdown",
   "id": "899a101e",
   "metadata": {},
   "source": [
    "#### What is the population (level 5) that contains the most houses? (★★☆) "
   ]
  },
  {
   "cell_type": "code",
   "execution_count": 23,
   "id": "9e8b34ba",
   "metadata": {},
   "outputs": [
    {
     "name": "stdout",
     "output_type": "stream",
     "text": [
      "level5\n",
      " Madrid Capital               6632\n",
      "Alcalá de Henares              525\n",
      "Las Rozas de Madrid            383\n",
      "Móstoles                       322\n",
      "San Sebastián de los Reyes     278\n",
      "                              ... \n",
      "Navarredonda                     1\n",
      "Pinilla del Valle                1\n",
      "Piñuécar-gandullas               1\n",
      "Rascafría                        1\n",
      "Montejo de la Sierra             1\n",
      "Name: price, Length: 168, dtype: int64\n"
     ]
    }
   ],
   "source": [
    "homes_per_population = real_estate.groupby('level5').count()\n",
    "print(homes_per_population['price'].sort_values(ascending=False))"
   ]
  }
 ],
 "metadata": {
  "kernelspec": {
   "display_name": "Python 3.8.13 64-bit ('3.8.13')",
   "language": "python",
   "name": "python3"
  },
  "language_info": {
   "codemirror_mode": {
    "name": "ipython",
    "version": 3
   },
   "file_extension": ".py",
   "mimetype": "text/x-python",
   "name": "python",
   "nbconvert_exporter": "python",
   "pygments_lexer": "ipython3",
   "version": "3.8.13"
  },
  "vscode": {
   "interpreter": {
    "hash": "110cc1dee26208153f2972f08a2ad52b6a56238dc66d48e87fb757ef2996db56"
   }
  }
 },
 "nbformat": 4,
 "nbformat_minor": 5
}
